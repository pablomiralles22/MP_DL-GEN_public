{
 "cells": [
  {
   "cell_type": "markdown",
   "metadata": {
    "id": "eXl5PzoKDEmK"
   },
   "source": [
    "# Lecture 6 - Intorduction to diffusion\n",
    "\n",
    "*Disclaimer*: This lecture is heavily guided by the contents of the Tiny-diffusion GitHub at https://github.com/tanelp/tiny-diffusion/tree/master"
   ]
  },
  {
   "cell_type": "markdown",
   "metadata": {
    "id": "w3uHCp0VDEmM"
   },
   "source": [
    "**Dependencies**"
   ]
  },
  {
   "cell_type": "code",
   "execution_count": 1,
   "metadata": {
    "colab": {
     "base_uri": "https://localhost:8080/"
    },
    "executionInfo": {
     "elapsed": 14417,
     "status": "ok",
     "timestamp": 1737624026384,
     "user": {
      "displayName": "Javier Huertas",
      "userId": "08531127118556167809"
     },
     "user_tz": -60
    },
    "id": "SArzmQSlDEmO",
    "outputId": "4c21e8c4-9e10-4e9e-d154-a3a42cc9a398"
   },
   "outputs": [
    {
     "name": "stdout",
     "output_type": "stream",
     "text": [
      "Collecting pytorch-lightning\n",
      "  Downloading pytorch_lightning-2.5.0.post0-py3-none-any.whl.metadata (21 kB)\n",
      "Requirement already satisfied: torch>=2.1.0 in /usr/local/lib/python3.11/dist-packages (from pytorch-lightning) (2.5.1+cu121)\n",
      "Requirement already satisfied: tqdm>=4.57.0 in /usr/local/lib/python3.11/dist-packages (from pytorch-lightning) (4.67.1)\n",
      "Requirement already satisfied: PyYAML>=5.4 in /usr/local/lib/python3.11/dist-packages (from pytorch-lightning) (6.0.2)\n",
      "Requirement already satisfied: fsspec>=2022.5.0 in /usr/local/lib/python3.11/dist-packages (from fsspec[http]>=2022.5.0->pytorch-lightning) (2024.10.0)\n",
      "Collecting torchmetrics>=0.7.0 (from pytorch-lightning)\n",
      "  Downloading torchmetrics-1.6.1-py3-none-any.whl.metadata (21 kB)\n",
      "Requirement already satisfied: packaging>=20.0 in /usr/local/lib/python3.11/dist-packages (from pytorch-lightning) (24.2)\n",
      "Requirement already satisfied: typing-extensions>=4.4.0 in /usr/local/lib/python3.11/dist-packages (from pytorch-lightning) (4.12.2)\n",
      "Collecting lightning-utilities>=0.10.0 (from pytorch-lightning)\n",
      "  Downloading lightning_utilities-0.11.9-py3-none-any.whl.metadata (5.2 kB)\n",
      "Requirement already satisfied: aiohttp!=4.0.0a0,!=4.0.0a1 in /usr/local/lib/python3.11/dist-packages (from fsspec[http]>=2022.5.0->pytorch-lightning) (3.11.11)\n",
      "Requirement already satisfied: setuptools in /usr/local/lib/python3.11/dist-packages (from lightning-utilities>=0.10.0->pytorch-lightning) (75.1.0)\n",
      "Requirement already satisfied: filelock in /usr/local/lib/python3.11/dist-packages (from torch>=2.1.0->pytorch-lightning) (3.16.1)\n",
      "Requirement already satisfied: networkx in /usr/local/lib/python3.11/dist-packages (from torch>=2.1.0->pytorch-lightning) (3.4.2)\n",
      "Requirement already satisfied: jinja2 in /usr/local/lib/python3.11/dist-packages (from torch>=2.1.0->pytorch-lightning) (3.1.5)\n",
      "Requirement already satisfied: nvidia-cuda-nvrtc-cu12==12.1.105 in /usr/local/lib/python3.11/dist-packages (from torch>=2.1.0->pytorch-lightning) (12.1.105)\n",
      "Requirement already satisfied: nvidia-cuda-runtime-cu12==12.1.105 in /usr/local/lib/python3.11/dist-packages (from torch>=2.1.0->pytorch-lightning) (12.1.105)\n",
      "Requirement already satisfied: nvidia-cuda-cupti-cu12==12.1.105 in /usr/local/lib/python3.11/dist-packages (from torch>=2.1.0->pytorch-lightning) (12.1.105)\n",
      "Requirement already satisfied: nvidia-cudnn-cu12==9.1.0.70 in /usr/local/lib/python3.11/dist-packages (from torch>=2.1.0->pytorch-lightning) (9.1.0.70)\n",
      "Requirement already satisfied: nvidia-cublas-cu12==12.1.3.1 in /usr/local/lib/python3.11/dist-packages (from torch>=2.1.0->pytorch-lightning) (12.1.3.1)\n",
      "Requirement already satisfied: nvidia-cufft-cu12==11.0.2.54 in /usr/local/lib/python3.11/dist-packages (from torch>=2.1.0->pytorch-lightning) (11.0.2.54)\n",
      "Requirement already satisfied: nvidia-curand-cu12==10.3.2.106 in /usr/local/lib/python3.11/dist-packages (from torch>=2.1.0->pytorch-lightning) (10.3.2.106)\n",
      "Requirement already satisfied: nvidia-cusolver-cu12==11.4.5.107 in /usr/local/lib/python3.11/dist-packages (from torch>=2.1.0->pytorch-lightning) (11.4.5.107)\n",
      "Requirement already satisfied: nvidia-cusparse-cu12==12.1.0.106 in /usr/local/lib/python3.11/dist-packages (from torch>=2.1.0->pytorch-lightning) (12.1.0.106)\n",
      "Requirement already satisfied: nvidia-nccl-cu12==2.21.5 in /usr/local/lib/python3.11/dist-packages (from torch>=2.1.0->pytorch-lightning) (2.21.5)\n",
      "Requirement already satisfied: nvidia-nvtx-cu12==12.1.105 in /usr/local/lib/python3.11/dist-packages (from torch>=2.1.0->pytorch-lightning) (12.1.105)\n",
      "Requirement already satisfied: triton==3.1.0 in /usr/local/lib/python3.11/dist-packages (from torch>=2.1.0->pytorch-lightning) (3.1.0)\n",
      "Requirement already satisfied: sympy==1.13.1 in /usr/local/lib/python3.11/dist-packages (from torch>=2.1.0->pytorch-lightning) (1.13.1)\n",
      "Requirement already satisfied: nvidia-nvjitlink-cu12 in /usr/local/lib/python3.11/dist-packages (from nvidia-cusolver-cu12==11.4.5.107->torch>=2.1.0->pytorch-lightning) (12.6.85)\n",
      "Requirement already satisfied: mpmath<1.4,>=1.1.0 in /usr/local/lib/python3.11/dist-packages (from sympy==1.13.1->torch>=2.1.0->pytorch-lightning) (1.3.0)\n",
      "Requirement already satisfied: numpy>1.20.0 in /usr/local/lib/python3.11/dist-packages (from torchmetrics>=0.7.0->pytorch-lightning) (1.26.4)\n",
      "Requirement already satisfied: aiohappyeyeballs>=2.3.0 in /usr/local/lib/python3.11/dist-packages (from aiohttp!=4.0.0a0,!=4.0.0a1->fsspec[http]>=2022.5.0->pytorch-lightning) (2.4.4)\n",
      "Requirement already satisfied: aiosignal>=1.1.2 in /usr/local/lib/python3.11/dist-packages (from aiohttp!=4.0.0a0,!=4.0.0a1->fsspec[http]>=2022.5.0->pytorch-lightning) (1.3.2)\n",
      "Requirement already satisfied: attrs>=17.3.0 in /usr/local/lib/python3.11/dist-packages (from aiohttp!=4.0.0a0,!=4.0.0a1->fsspec[http]>=2022.5.0->pytorch-lightning) (24.3.0)\n",
      "Requirement already satisfied: frozenlist>=1.1.1 in /usr/local/lib/python3.11/dist-packages (from aiohttp!=4.0.0a0,!=4.0.0a1->fsspec[http]>=2022.5.0->pytorch-lightning) (1.5.0)\n",
      "Requirement already satisfied: multidict<7.0,>=4.5 in /usr/local/lib/python3.11/dist-packages (from aiohttp!=4.0.0a0,!=4.0.0a1->fsspec[http]>=2022.5.0->pytorch-lightning) (6.1.0)\n",
      "Requirement already satisfied: propcache>=0.2.0 in /usr/local/lib/python3.11/dist-packages (from aiohttp!=4.0.0a0,!=4.0.0a1->fsspec[http]>=2022.5.0->pytorch-lightning) (0.2.1)\n",
      "Requirement already satisfied: yarl<2.0,>=1.17.0 in /usr/local/lib/python3.11/dist-packages (from aiohttp!=4.0.0a0,!=4.0.0a1->fsspec[http]>=2022.5.0->pytorch-lightning) (1.18.3)\n",
      "Requirement already satisfied: MarkupSafe>=2.0 in /usr/local/lib/python3.11/dist-packages (from jinja2->torch>=2.1.0->pytorch-lightning) (3.0.2)\n",
      "Requirement already satisfied: idna>=2.0 in /usr/local/lib/python3.11/dist-packages (from yarl<2.0,>=1.17.0->aiohttp!=4.0.0a0,!=4.0.0a1->fsspec[http]>=2022.5.0->pytorch-lightning) (3.10)\n",
      "Downloading pytorch_lightning-2.5.0.post0-py3-none-any.whl (819 kB)\n",
      "\u001b[2K   \u001b[90m━━━━━━━━━━━━━━━━━━━━━━━━━━━━━━━━━━━━━━━━\u001b[0m \u001b[32m819.3/819.3 kB\u001b[0m \u001b[31m9.5 MB/s\u001b[0m eta \u001b[36m0:00:00\u001b[0m\n",
      "\u001b[?25hDownloading lightning_utilities-0.11.9-py3-none-any.whl (28 kB)\n",
      "Downloading torchmetrics-1.6.1-py3-none-any.whl (927 kB)\n",
      "\u001b[2K   \u001b[90m━━━━━━━━━━━━━━━━━━━━━━━━━━━━━━━━━━━━━━━━\u001b[0m \u001b[32m927.3/927.3 kB\u001b[0m \u001b[31m23.2 MB/s\u001b[0m eta \u001b[36m0:00:00\u001b[0m\n",
      "\u001b[?25hInstalling collected packages: lightning-utilities, torchmetrics, pytorch-lightning\n",
      "Successfully installed lightning-utilities-0.11.9 pytorch-lightning-2.5.0.post0 torchmetrics-1.6.1\n"
     ]
    }
   ],
   "source": [
    "!pip install pytorch-lightning"
   ]
  },
  {
   "cell_type": "markdown",
   "metadata": {
    "id": "O23KCJuqDEmQ"
   },
   "source": [
    "Load your drive using this (if necessary):"
   ]
  },
  {
   "cell_type": "code",
   "execution_count": null,
   "metadata": {
    "id": "OCtv-uFjDEmQ"
   },
   "outputs": [],
   "source": [
    "from google.colab import drive\n",
    "drive.mount('/content/drive')"
   ]
  },
  {
   "cell_type": "markdown",
   "metadata": {
    "id": "LoooK3X0ajZ1"
   },
   "source": [
    "Set up dependencies of the notebook"
   ]
  },
  {
   "cell_type": "code",
   "execution_count": 21,
   "metadata": {
    "executionInfo": {
     "elapsed": 331,
     "status": "ok",
     "timestamp": 1737632544907,
     "user": {
      "displayName": "Javier Huertas",
      "userId": "08531127118556167809"
     },
     "user_tz": -60
    },
    "id": "hawWNquoaivm"
   },
   "outputs": [],
   "source": [
    "import datetime\n",
    "\n",
    "import torch\n",
    "import torch.nn as nn\n",
    "import torch.nn.functional as F\n",
    "from torch.utils.data import TensorDataset\n",
    "\n",
    "import pytorch_lightning as pl\n",
    "import torchmetrics\n",
    "from pytorch_lightning import seed_everything\n",
    "\n",
    "import numpy as np\n",
    "\n",
    "import pandas as pd\n",
    "\n",
    "import matplotlib.pyplot as plt"
   ]
  },
  {
   "cell_type": "markdown",
   "metadata": {
    "id": "RLPAFe08DEmR"
   },
   "source": [
    "# Diffusion - Small introduction\n",
    "\n",
    "In this **notebook**, we are implementing a very limited **Diffusion** model to transform random noise points into interesting shapes. Diffusion models have two different workflows, one for training and the other for inference (or generation). First, the training process of diffusion models try to estimate the amount of noise a data distribution. Let $𝛜_θ(x, t)$ be the model with $θ$ parametrization (learnable weights) which receives a noisy image and the nummber of timesteps it has been through the noising process. This expression aims to approximate $𝛜 ∼ 𝒩(0, I)$ where $𝛜$ is noise sampled from a normal distribution with 0 average and 1 deviation.\n",
    "\n",
    "This learning objective lets $𝛜_θ(x, t)$ detect the 'amount of noise' contained in a data distribution, and therefore, after estimating the noise in this data distribution, we can *remove* it. This process is the inference, also called denoising. In essence, we want to remove noise from $x_t$, reducing the timesteps of noise using an expression similar to $x_{t-1} = x_t - 𝛜_θ(x_t, t)$.\n",
    "\n",
    "So, in this notebook we will adress this entire training process for a minimal dataset.\n",
    "\n",
    "This notebook is divided into the following sections:\n",
    "\n",
    "\n",
    "*   Data Loading\n",
    "*   Model definition\n",
    "*   Training\n",
    "\n",
    "\n"
   ]
  },
  {
   "cell_type": "markdown",
   "metadata": {
    "id": "nl2-gyQIHVRY"
   },
   "source": [
    "## Data Loading\n",
    "The data loading requires downloading the data from kaggle at kaggle: [filebb/datasaurus](**Data**:\n",
    "https://www.kaggle.com/datasets/filebb/datasaurus\n",
    ")\n",
    "\n",
    "This dataset contains pairs of points that, when plotted, form a dinosaur head. There's not much more to it, but we want to train a model that, given random noise, it can replicate these dinosaur heads by way of denoise it.\n",
    "\n",
    "There's not much preprocessing involved but some random noise will help the model build dinosaurs.\n",
    "\n",
    "Example of the process"
   ]
  },
  {
   "cell_type": "markdown",
   "metadata": {
    "id": "xWWU59qSeL7B"
   },
   "source": [
    "![image.png](data:image/png;base64,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)"
   ]
  },
  {
   "cell_type": "code",
   "execution_count": 3,
   "metadata": {
    "colab": {
     "base_uri": "https://localhost:8080/"
    },
    "executionInfo": {
     "elapsed": 408,
     "status": "ok",
     "timestamp": 1737625910761,
     "user": {
      "displayName": "Javier Huertas",
      "userId": "08531127118556167809"
     },
     "user_tz": -60
    },
    "id": "C73taijTDEmT",
    "outputId": "48cd3a69-1568-42b9-b445-eb73cb585d44"
   },
   "outputs": [
    {
     "name": "stderr",
     "output_type": "stream",
     "text": [
      "INFO:lightning_fabric.utilities.seed:Seed set to 42\n"
     ]
    },
    {
     "data": {
      "text/plain": [
       "42"
      ]
     },
     "execution_count": 3,
     "metadata": {},
     "output_type": "execute_result"
    }
   ],
   "source": [
    "DATA_PATH = 'datasauRus.csv'\n",
    "SEED = 42\n",
    "seed_everything(seed=SEED) # Set seed for reproducibility,"
   ]
  },
  {
   "cell_type": "code",
   "execution_count": 11,
   "metadata": {
    "colab": {
     "base_uri": "https://localhost:8080/",
     "height": 424
    },
    "executionInfo": {
     "elapsed": 208,
     "status": "ok",
     "timestamp": 1737626737136,
     "user": {
      "displayName": "Javier Huertas",
      "userId": "08531127118556167809"
     },
     "user_tz": -60
    },
    "id": "nOtO_grGn7NI",
    "outputId": "970de12e-12db-4619-c427-6b40a438d415"
   },
   "outputs": [
    {
     "data": {
      "application/vnd.google.colaboratory.intrinsic+json": {
       "summary": "{\n  \"name\": \"df\",\n  \"rows\": 142,\n  \"fields\": [\n    {\n      \"column\": \"dataset\",\n      \"properties\": {\n        \"dtype\": \"category\",\n        \"num_unique_values\": 1,\n        \"samples\": [\n          \"dino\"\n        ],\n        \"semantic_type\": \"\",\n        \"description\": \"\"\n      }\n    },\n    {\n      \"column\": \"x\",\n      \"properties\": {\n        \"dtype\": \"number\",\n        \"std\": 16.765142039116785,\n        \"min\": 22.3077,\n        \"max\": 98.2051,\n        \"num_unique_values\": 100,\n        \"samples\": [\n          65.8974\n        ],\n        \"semantic_type\": \"\",\n        \"description\": \"\"\n      }\n    },\n    {\n      \"column\": \"y\",\n      \"properties\": {\n        \"dtype\": \"number\",\n        \"std\": 26.935403486939123,\n        \"min\": 2.9487,\n        \"max\": 99.4872,\n        \"num_unique_values\": 103,\n        \"samples\": [\n          31.4103\n        ],\n        \"semantic_type\": \"\",\n        \"description\": \"\"\n      }\n    }\n  ]\n}",
       "type": "dataframe",
       "variable_name": "df"
      },
      "text/html": [
       "\n",
       "  <div id=\"df-4649c63a-0717-4a9b-81e2-7a56cfb77826\" class=\"colab-df-container\">\n",
       "    <div>\n",
       "<style scoped>\n",
       "    .dataframe tbody tr th:only-of-type {\n",
       "        vertical-align: middle;\n",
       "    }\n",
       "\n",
       "    .dataframe tbody tr th {\n",
       "        vertical-align: top;\n",
       "    }\n",
       "\n",
       "    .dataframe thead th {\n",
       "        text-align: right;\n",
       "    }\n",
       "</style>\n",
       "<table border=\"1\" class=\"dataframe\">\n",
       "  <thead>\n",
       "    <tr style=\"text-align: right;\">\n",
       "      <th></th>\n",
       "      <th>dataset</th>\n",
       "      <th>x</th>\n",
       "      <th>y</th>\n",
       "    </tr>\n",
       "  </thead>\n",
       "  <tbody>\n",
       "    <tr>\n",
       "      <th>0</th>\n",
       "      <td>dino</td>\n",
       "      <td>55.3846</td>\n",
       "      <td>97.1795</td>\n",
       "    </tr>\n",
       "    <tr>\n",
       "      <th>1</th>\n",
       "      <td>dino</td>\n",
       "      <td>51.5385</td>\n",
       "      <td>96.0256</td>\n",
       "    </tr>\n",
       "    <tr>\n",
       "      <th>2</th>\n",
       "      <td>dino</td>\n",
       "      <td>46.1538</td>\n",
       "      <td>94.4872</td>\n",
       "    </tr>\n",
       "    <tr>\n",
       "      <th>3</th>\n",
       "      <td>dino</td>\n",
       "      <td>42.8205</td>\n",
       "      <td>91.4103</td>\n",
       "    </tr>\n",
       "    <tr>\n",
       "      <th>4</th>\n",
       "      <td>dino</td>\n",
       "      <td>40.7692</td>\n",
       "      <td>88.3333</td>\n",
       "    </tr>\n",
       "    <tr>\n",
       "      <th>...</th>\n",
       "      <td>...</td>\n",
       "      <td>...</td>\n",
       "      <td>...</td>\n",
       "    </tr>\n",
       "    <tr>\n",
       "      <th>137</th>\n",
       "      <td>dino</td>\n",
       "      <td>39.4872</td>\n",
       "      <td>25.3846</td>\n",
       "    </tr>\n",
       "    <tr>\n",
       "      <th>138</th>\n",
       "      <td>dino</td>\n",
       "      <td>91.2821</td>\n",
       "      <td>41.5385</td>\n",
       "    </tr>\n",
       "    <tr>\n",
       "      <th>139</th>\n",
       "      <td>dino</td>\n",
       "      <td>50.0000</td>\n",
       "      <td>95.7692</td>\n",
       "    </tr>\n",
       "    <tr>\n",
       "      <th>140</th>\n",
       "      <td>dino</td>\n",
       "      <td>47.9487</td>\n",
       "      <td>95.0000</td>\n",
       "    </tr>\n",
       "    <tr>\n",
       "      <th>141</th>\n",
       "      <td>dino</td>\n",
       "      <td>44.1026</td>\n",
       "      <td>92.6923</td>\n",
       "    </tr>\n",
       "  </tbody>\n",
       "</table>\n",
       "<p>142 rows × 3 columns</p>\n",
       "</div>\n",
       "    <div class=\"colab-df-buttons\">\n",
       "\n",
       "  <div class=\"colab-df-container\">\n",
       "    <button class=\"colab-df-convert\" onclick=\"convertToInteractive('df-4649c63a-0717-4a9b-81e2-7a56cfb77826')\"\n",
       "            title=\"Convert this dataframe to an interactive table.\"\n",
       "            style=\"display:none;\">\n",
       "\n",
       "  <svg xmlns=\"http://www.w3.org/2000/svg\" height=\"24px\" viewBox=\"0 -960 960 960\">\n",
       "    <path d=\"M120-120v-720h720v720H120Zm60-500h600v-160H180v160Zm220 220h160v-160H400v160Zm0 220h160v-160H400v160ZM180-400h160v-160H180v160Zm440 0h160v-160H620v160ZM180-180h160v-160H180v160Zm440 0h160v-160H620v160Z\"/>\n",
       "  </svg>\n",
       "    </button>\n",
       "\n",
       "  <style>\n",
       "    .colab-df-container {\n",
       "      display:flex;\n",
       "      gap: 12px;\n",
       "    }\n",
       "\n",
       "    .colab-df-convert {\n",
       "      background-color: #E8F0FE;\n",
       "      border: none;\n",
       "      border-radius: 50%;\n",
       "      cursor: pointer;\n",
       "      display: none;\n",
       "      fill: #1967D2;\n",
       "      height: 32px;\n",
       "      padding: 0 0 0 0;\n",
       "      width: 32px;\n",
       "    }\n",
       "\n",
       "    .colab-df-convert:hover {\n",
       "      background-color: #E2EBFA;\n",
       "      box-shadow: 0px 1px 2px rgba(60, 64, 67, 0.3), 0px 1px 3px 1px rgba(60, 64, 67, 0.15);\n",
       "      fill: #174EA6;\n",
       "    }\n",
       "\n",
       "    .colab-df-buttons div {\n",
       "      margin-bottom: 4px;\n",
       "    }\n",
       "\n",
       "    [theme=dark] .colab-df-convert {\n",
       "      background-color: #3B4455;\n",
       "      fill: #D2E3FC;\n",
       "    }\n",
       "\n",
       "    [theme=dark] .colab-df-convert:hover {\n",
       "      background-color: #434B5C;\n",
       "      box-shadow: 0px 1px 3px 1px rgba(0, 0, 0, 0.15);\n",
       "      filter: drop-shadow(0px 1px 2px rgba(0, 0, 0, 0.3));\n",
       "      fill: #FFFFFF;\n",
       "    }\n",
       "  </style>\n",
       "\n",
       "    <script>\n",
       "      const buttonEl =\n",
       "        document.querySelector('#df-4649c63a-0717-4a9b-81e2-7a56cfb77826 button.colab-df-convert');\n",
       "      buttonEl.style.display =\n",
       "        google.colab.kernel.accessAllowed ? 'block' : 'none';\n",
       "\n",
       "      async function convertToInteractive(key) {\n",
       "        const element = document.querySelector('#df-4649c63a-0717-4a9b-81e2-7a56cfb77826');\n",
       "        const dataTable =\n",
       "          await google.colab.kernel.invokeFunction('convertToInteractive',\n",
       "                                                    [key], {});\n",
       "        if (!dataTable) return;\n",
       "\n",
       "        const docLinkHtml = 'Like what you see? Visit the ' +\n",
       "          '<a target=\"_blank\" href=https://colab.research.google.com/notebooks/data_table.ipynb>data table notebook</a>'\n",
       "          + ' to learn more about interactive tables.';\n",
       "        element.innerHTML = '';\n",
       "        dataTable['output_type'] = 'display_data';\n",
       "        await google.colab.output.renderOutput(dataTable, element);\n",
       "        const docLink = document.createElement('div');\n",
       "        docLink.innerHTML = docLinkHtml;\n",
       "        element.appendChild(docLink);\n",
       "      }\n",
       "    </script>\n",
       "  </div>\n",
       "\n",
       "\n",
       "<div id=\"df-fe3ff4a7-6522-494a-b96a-27a80ba76f43\">\n",
       "  <button class=\"colab-df-quickchart\" onclick=\"quickchart('df-fe3ff4a7-6522-494a-b96a-27a80ba76f43')\"\n",
       "            title=\"Suggest charts\"\n",
       "            style=\"display:none;\">\n",
       "\n",
       "<svg xmlns=\"http://www.w3.org/2000/svg\" height=\"24px\"viewBox=\"0 0 24 24\"\n",
       "     width=\"24px\">\n",
       "    <g>\n",
       "        <path d=\"M19 3H5c-1.1 0-2 .9-2 2v14c0 1.1.9 2 2 2h14c1.1 0 2-.9 2-2V5c0-1.1-.9-2-2-2zM9 17H7v-7h2v7zm4 0h-2V7h2v10zm4 0h-2v-4h2v4z\"/>\n",
       "    </g>\n",
       "</svg>\n",
       "  </button>\n",
       "\n",
       "<style>\n",
       "  .colab-df-quickchart {\n",
       "      --bg-color: #E8F0FE;\n",
       "      --fill-color: #1967D2;\n",
       "      --hover-bg-color: #E2EBFA;\n",
       "      --hover-fill-color: #174EA6;\n",
       "      --disabled-fill-color: #AAA;\n",
       "      --disabled-bg-color: #DDD;\n",
       "  }\n",
       "\n",
       "  [theme=dark] .colab-df-quickchart {\n",
       "      --bg-color: #3B4455;\n",
       "      --fill-color: #D2E3FC;\n",
       "      --hover-bg-color: #434B5C;\n",
       "      --hover-fill-color: #FFFFFF;\n",
       "      --disabled-bg-color: #3B4455;\n",
       "      --disabled-fill-color: #666;\n",
       "  }\n",
       "\n",
       "  .colab-df-quickchart {\n",
       "    background-color: var(--bg-color);\n",
       "    border: none;\n",
       "    border-radius: 50%;\n",
       "    cursor: pointer;\n",
       "    display: none;\n",
       "    fill: var(--fill-color);\n",
       "    height: 32px;\n",
       "    padding: 0;\n",
       "    width: 32px;\n",
       "  }\n",
       "\n",
       "  .colab-df-quickchart:hover {\n",
       "    background-color: var(--hover-bg-color);\n",
       "    box-shadow: 0 1px 2px rgba(60, 64, 67, 0.3), 0 1px 3px 1px rgba(60, 64, 67, 0.15);\n",
       "    fill: var(--button-hover-fill-color);\n",
       "  }\n",
       "\n",
       "  .colab-df-quickchart-complete:disabled,\n",
       "  .colab-df-quickchart-complete:disabled:hover {\n",
       "    background-color: var(--disabled-bg-color);\n",
       "    fill: var(--disabled-fill-color);\n",
       "    box-shadow: none;\n",
       "  }\n",
       "\n",
       "  .colab-df-spinner {\n",
       "    border: 2px solid var(--fill-color);\n",
       "    border-color: transparent;\n",
       "    border-bottom-color: var(--fill-color);\n",
       "    animation:\n",
       "      spin 1s steps(1) infinite;\n",
       "  }\n",
       "\n",
       "  @keyframes spin {\n",
       "    0% {\n",
       "      border-color: transparent;\n",
       "      border-bottom-color: var(--fill-color);\n",
       "      border-left-color: var(--fill-color);\n",
       "    }\n",
       "    20% {\n",
       "      border-color: transparent;\n",
       "      border-left-color: var(--fill-color);\n",
       "      border-top-color: var(--fill-color);\n",
       "    }\n",
       "    30% {\n",
       "      border-color: transparent;\n",
       "      border-left-color: var(--fill-color);\n",
       "      border-top-color: var(--fill-color);\n",
       "      border-right-color: var(--fill-color);\n",
       "    }\n",
       "    40% {\n",
       "      border-color: transparent;\n",
       "      border-right-color: var(--fill-color);\n",
       "      border-top-color: var(--fill-color);\n",
       "    }\n",
       "    60% {\n",
       "      border-color: transparent;\n",
       "      border-right-color: var(--fill-color);\n",
       "    }\n",
       "    80% {\n",
       "      border-color: transparent;\n",
       "      border-right-color: var(--fill-color);\n",
       "      border-bottom-color: var(--fill-color);\n",
       "    }\n",
       "    90% {\n",
       "      border-color: transparent;\n",
       "      border-bottom-color: var(--fill-color);\n",
       "    }\n",
       "  }\n",
       "</style>\n",
       "\n",
       "  <script>\n",
       "    async function quickchart(key) {\n",
       "      const quickchartButtonEl =\n",
       "        document.querySelector('#' + key + ' button');\n",
       "      quickchartButtonEl.disabled = true;  // To prevent multiple clicks.\n",
       "      quickchartButtonEl.classList.add('colab-df-spinner');\n",
       "      try {\n",
       "        const charts = await google.colab.kernel.invokeFunction(\n",
       "            'suggestCharts', [key], {});\n",
       "      } catch (error) {\n",
       "        console.error('Error during call to suggestCharts:', error);\n",
       "      }\n",
       "      quickchartButtonEl.classList.remove('colab-df-spinner');\n",
       "      quickchartButtonEl.classList.add('colab-df-quickchart-complete');\n",
       "    }\n",
       "    (() => {\n",
       "      let quickchartButtonEl =\n",
       "        document.querySelector('#df-fe3ff4a7-6522-494a-b96a-27a80ba76f43 button');\n",
       "      quickchartButtonEl.style.display =\n",
       "        google.colab.kernel.accessAllowed ? 'block' : 'none';\n",
       "    })();\n",
       "  </script>\n",
       "</div>\n",
       "\n",
       "  <div id=\"id_dfe9ee46-9a32-436c-88dd-ff8b6ffdd4a2\">\n",
       "    <style>\n",
       "      .colab-df-generate {\n",
       "        background-color: #E8F0FE;\n",
       "        border: none;\n",
       "        border-radius: 50%;\n",
       "        cursor: pointer;\n",
       "        display: none;\n",
       "        fill: #1967D2;\n",
       "        height: 32px;\n",
       "        padding: 0 0 0 0;\n",
       "        width: 32px;\n",
       "      }\n",
       "\n",
       "      .colab-df-generate:hover {\n",
       "        background-color: #E2EBFA;\n",
       "        box-shadow: 0px 1px 2px rgba(60, 64, 67, 0.3), 0px 1px 3px 1px rgba(60, 64, 67, 0.15);\n",
       "        fill: #174EA6;\n",
       "      }\n",
       "\n",
       "      [theme=dark] .colab-df-generate {\n",
       "        background-color: #3B4455;\n",
       "        fill: #D2E3FC;\n",
       "      }\n",
       "\n",
       "      [theme=dark] .colab-df-generate:hover {\n",
       "        background-color: #434B5C;\n",
       "        box-shadow: 0px 1px 3px 1px rgba(0, 0, 0, 0.15);\n",
       "        filter: drop-shadow(0px 1px 2px rgba(0, 0, 0, 0.3));\n",
       "        fill: #FFFFFF;\n",
       "      }\n",
       "    </style>\n",
       "    <button class=\"colab-df-generate\" onclick=\"generateWithVariable('df')\"\n",
       "            title=\"Generate code using this dataframe.\"\n",
       "            style=\"display:none;\">\n",
       "\n",
       "  <svg xmlns=\"http://www.w3.org/2000/svg\" height=\"24px\"viewBox=\"0 0 24 24\"\n",
       "       width=\"24px\">\n",
       "    <path d=\"M7,19H8.4L18.45,9,17,7.55,7,17.6ZM5,21V16.75L18.45,3.32a2,2,0,0,1,2.83,0l1.4,1.43a1.91,1.91,0,0,1,.58,1.4,1.91,1.91,0,0,1-.58,1.4L9.25,21ZM18.45,9,17,7.55Zm-12,3A5.31,5.31,0,0,0,4.9,8.1,5.31,5.31,0,0,0,1,6.5,5.31,5.31,0,0,0,4.9,4.9,5.31,5.31,0,0,0,6.5,1,5.31,5.31,0,0,0,8.1,4.9,5.31,5.31,0,0,0,12,6.5,5.46,5.46,0,0,0,6.5,12Z\"/>\n",
       "  </svg>\n",
       "    </button>\n",
       "    <script>\n",
       "      (() => {\n",
       "      const buttonEl =\n",
       "        document.querySelector('#id_dfe9ee46-9a32-436c-88dd-ff8b6ffdd4a2 button.colab-df-generate');\n",
       "      buttonEl.style.display =\n",
       "        google.colab.kernel.accessAllowed ? 'block' : 'none';\n",
       "\n",
       "      buttonEl.onclick = () => {\n",
       "        google.colab.notebook.generateWithVariable('df');\n",
       "      }\n",
       "      })();\n",
       "    </script>\n",
       "  </div>\n",
       "\n",
       "    </div>\n",
       "  </div>\n"
      ],
      "text/plain": [
       "    dataset        x        y\n",
       "0      dino  55.3846  97.1795\n",
       "1      dino  51.5385  96.0256\n",
       "2      dino  46.1538  94.4872\n",
       "3      dino  42.8205  91.4103\n",
       "4      dino  40.7692  88.3333\n",
       "..      ...      ...      ...\n",
       "137    dino  39.4872  25.3846\n",
       "138    dino  91.2821  41.5385\n",
       "139    dino  50.0000  95.7692\n",
       "140    dino  47.9487  95.0000\n",
       "141    dino  44.1026  92.6923\n",
       "\n",
       "[142 rows x 3 columns]"
      ]
     },
     "execution_count": 11,
     "metadata": {},
     "output_type": "execute_result"
    }
   ],
   "source": [
    "df = pd.read_csv(DATA_PATH)\n",
    "df = df[df[\"dataset\"] == \"dino\"]\n",
    "df"
   ]
  },
  {
   "cell_type": "markdown",
   "metadata": {
    "id": "35lsORKQoFxF"
   },
   "source": [
    "This is what the data points look like!"
   ]
  },
  {
   "cell_type": "code",
   "execution_count": 13,
   "metadata": {
    "colab": {
     "base_uri": "https://localhost:8080/",
     "height": 410
    },
    "executionInfo": {
     "elapsed": 399,
     "status": "ok",
     "timestamp": 1737626825946,
     "user": {
      "displayName": "Javier Huertas",
      "userId": "08531127118556167809"
     },
     "user_tz": -60
    },
    "id": "tDQxUJnGn-Wp",
    "outputId": "7d33e5af-b73b-41ca-cd98-6eed7a1945b1"
   },
   "outputs": [
    {
     "data": {
      "image/png": "[encoded data removed]",
      "text/plain": [
       "<Figure size 500x400 with 1 Axes>"
      ]
     },
     "metadata": {},
     "output_type": "display_data"
    }
   ],
   "source": [
    "plt.figure(figsize=(5, 4))\n",
    "plt.scatter(df['x'], df['y'])\n",
    "plt.xlabel('X')\n",
    "plt.ylabel('Y')\n",
    "plt.title('Dino Dataset')\n",
    "plt.show()"
   ]
  },
  {
   "cell_type": "markdown",
   "metadata": {
    "id": "57LoYIMvoRRo"
   },
   "source": [
    "Now, we build the dataset using some extra random noise to make the dinosaur have more points!\n"
   ]
  },
  {
   "cell_type": "code",
   "execution_count": 126,
   "metadata": {
    "executionInfo": {
     "elapsed": 348,
     "status": "ok",
     "timestamp": 1737638425540,
     "user": {
      "displayName": "Javier Huertas",
      "userId": "08531127118556167809"
     },
     "user_tz": -60
    },
    "id": "H2OBWQEgmy-_"
   },
   "outputs": [],
   "source": [
    "class DinoModule(pl.LightningDataModule):\n",
    "    def __init__(self, path, batch_size=16, n=8000):\n",
    "        super().__init__()\n",
    "        self.batch_size = batch_size\n",
    "        self.full_len = len(df)\n",
    "        self.path = path\n",
    "        self.n = n\n",
    "\n",
    "    def setup(self, stage=None):\n",
    "        # We can't perform numerical evaluations! Only train + val\n",
    "        df = pd.read_csv(self.path)\n",
    "        df = df[df[\"dataset\"] == \"dino\"]\n",
    "\n",
    "        rng = np.random.default_rng(42)\n",
    "        ix = rng.integers(0, len(df), self.n)\n",
    "        x = df[\"x\"].iloc[ix].tolist()\n",
    "        x = np.array(x) + rng.normal(size=len(x)) * 0.15\n",
    "        y = df[\"y\"].iloc[ix].tolist()\n",
    "        y = np.array(y) + rng.normal(size=len(x)) * 0.15\n",
    "        x = (x/54 - 1) * 4\n",
    "        y = (y/48 - 1) * 4\n",
    "        X = np.stack((x, y), axis=1)\n",
    "\n",
    "        self.train_data = TensorDataset(torch.from_numpy(X.astype(np.float32)))\n",
    "\n",
    "    def collate_fn(self, batch):\n",
    "        batch = list(zip(*batch))[0]\n",
    "        return torch.stack(batch, axis=0) # [batch_size, 2]\n",
    "\n",
    "    def train_dataloader(self):\n",
    "        return torch.utils.data.DataLoader(self.train_data,\n",
    "                                           batch_size=self.batch_size,\n",
    "                                           shuffle=True,\n",
    "                                           collate_fn=self.collate_fn,\n",
    "                                           drop_last=True,)"
   ]
  },
  {
   "cell_type": "markdown",
   "metadata": {
    "id": "1cIf3GkkMrFI"
   },
   "source": [
    "## Diffusion\n",
    "\n",
    "We are implementing diffusion using the method described in DDPM (https://arxiv.org/abs/2006.11239). First we begin with a simplistic MLP model, designed to denoise. This has 2 components, the `SinusoidalEmbedding` and the `Block`.\n",
    "\n",
    "First, `SinusoidalEmbedding` are positional embeddings."
   ]
  },
  {
   "cell_type": "code",
   "execution_count": 127,
   "metadata": {
    "executionInfo": {
     "elapsed": 14,
     "status": "ok",
     "timestamp": 1737638425540,
     "user": {
      "displayName": "Javier Huertas",
      "userId": "08531127118556167809"
     },
     "user_tz": -60
    },
    "id": "raW5E6fE1fmi"
   },
   "outputs": [],
   "source": [
    "class SinusoidalEmbedding(nn.Module):\n",
    "    def __init__(self, size, scale = 1.0):\n",
    "        super().__init__()\n",
    "        self.size = size\n",
    "        self.scale = scale\n",
    "        self.const = torch.Tensor([10000.0])\n",
    "\n",
    "    def forward(self, x):\n",
    "        x = x * self.scale\n",
    "        half_size = self.size // 2\n",
    "        emb = torch.log(self.const) / (half_size - 1)\n",
    "        emb = torch.exp(-emb * torch.arange(half_size))\n",
    "        emb = x.unsqueeze(-1) * emb.unsqueeze(0)\n",
    "        emb = torch.cat((torch.sin(emb), torch.cos(emb)), dim=-1)\n",
    "        return emb\n",
    "\n",
    "    def __len__(self):\n",
    "        return self.size"
   ]
  },
  {
   "cell_type": "markdown",
   "metadata": {
    "id": "9CBjTxIc5WEe"
   },
   "source": [
    "Second `Block` is a simple Linear + Activation layer."
   ]
  },
  {
   "cell_type": "code",
   "execution_count": 128,
   "metadata": {
    "executionInfo": {
     "elapsed": 13,
     "status": "ok",
     "timestamp": 1737638425540,
     "user": {
      "displayName": "Javier Huertas",
      "userId": "08531127118556167809"
     },
     "user_tz": -60
    },
    "id": "pvwf4dwjOc23"
   },
   "outputs": [],
   "source": [
    "class Block(nn.Module):\n",
    "    def __init__(self, size):\n",
    "        super().__init__()\n",
    "\n",
    "        self.ff = nn.Linear(size, size)\n",
    "        self.act = nn.GELU()\n",
    "\n",
    "    def forward(self, x):\n",
    "        return x + self.act(self.ff(x))"
   ]
  },
  {
   "cell_type": "markdown",
   "metadata": {
    "id": "tqIHaHXN5ugU"
   },
   "source": [
    "The final module `MLP` puts everything together. The architecture has two embeddings, one for each coordinate of the dataset and a final embedding for the ime dimension."
   ]
  },
  {
   "cell_type": "code",
   "execution_count": 129,
   "metadata": {
    "executionInfo": {
     "elapsed": 13,
     "status": "ok",
     "timestamp": 1737638425540,
     "user": {
      "displayName": "Javier Huertas",
      "userId": "08531127118556167809"
     },
     "user_tz": -60
    },
    "id": "vc0aaQi-mtE3"
   },
   "outputs": [],
   "source": [
    "class MLP(nn.Module):\n",
    "    def __init__(self, hidden_size = 128, hidden_layers = 3,\n",
    "                 emb_size = 128):\n",
    "        super().__init__()\n",
    "\n",
    "        self.time_mlp = SinusoidalEmbedding(emb_size)\n",
    "        self.input_mlp1 = SinusoidalEmbedding(emb_size, scale=25.0)\n",
    "        self.input_mlp2 = SinusoidalEmbedding(emb_size, scale=25.0)\n",
    "\n",
    "        concat_size = len(self.time_mlp) + \\\n",
    "            len(self.input_mlp1) + len(self.input_mlp2)\n",
    "        layers = [nn.Linear(concat_size, hidden_size), nn.GELU()]\n",
    "        for _ in range(hidden_layers):\n",
    "            layers.append(Block(hidden_size))\n",
    "        layers.append(nn.Linear(hidden_size, 2))\n",
    "        self.joint_mlp = nn.Sequential(*layers)\n",
    "\n",
    "    def forward(self, x, t):\n",
    "        x1_emb = self.input_mlp1(x[:, 0])\n",
    "        x2_emb = self.input_mlp2(x[:, 1])\n",
    "        t_emb = self.time_mlp(t)\n",
    "        x = torch.cat((x1_emb, x2_emb, t_emb), dim=-1)\n",
    "        x = self.joint_mlp(x)\n",
    "        return x"
   ]
  },
  {
   "cell_type": "markdown",
   "metadata": {
    "id": "soaSb2IX6QGf"
   },
   "source": [
    "## Scheduler\n",
    "Now we are going to define the core of the diffusion model. The MLP was fairly simple, and is the parametrization of $𝛜_θ(x, t)$. Now we have to define the entire scheduler to train. This requires several parts to make everything fit neatly together going forward.\n",
    "\n",
    "Let's begin with some definitions, we need to dephine the betas. For our examples, the betas will take the following shape:\n",
    "\n",
    "$$β_{start} = 0.0001$$\n",
    "$$β_{end} = 0.02$$\n",
    "$$β = [0.0001, ..., 0.02]$$\n",
    "\n",
    "The betas here denote the variance schedule."
   ]
  },
  {
   "cell_type": "code",
   "execution_count": 130,
   "metadata": {
    "executionInfo": {
     "elapsed": 13,
     "status": "ok",
     "timestamp": 1737638425540,
     "user": {
      "displayName": "Javier Huertas",
      "userId": "08531127118556167809"
     },
     "user_tz": -60
    },
    "id": "1ZSjltmo7T9T"
   },
   "outputs": [],
   "source": [
    "beta_start = 0.0001\n",
    "beta_end = 0.02\n",
    "betas = torch.linspace(beta_start, beta_end, 1000) #Linear scheduling\n",
    "# Default to 1000 timesteps maximum"
   ]
  },
  {
   "cell_type": "markdown",
   "metadata": {
    "id": "vsmiayTn8iIJ"
   },
   "source": [
    "Now we describe the alphas. Remember, later we will compute a noisy example as:\n",
    "\n",
    "$\\sqrt{\\hat{α_t}}x_0 + \\sqrt{1-\\hat{α_t}}𝛜$\n",
    "\n",
    "Therefore we want to compute the alphas, which come defined by $α_t = 1 - β_t$, similarly we compute the hat alpha with $\\hat{α_t} = ∏^t_{s=1}α_s$"
   ]
  },
  {
   "cell_type": "code",
   "execution_count": 131,
   "metadata": {
    "colab": {
     "base_uri": "https://localhost:8080/"
    },
    "executionInfo": {
     "elapsed": 14,
     "status": "ok",
     "timestamp": 1737638425542,
     "user": {
      "displayName": "Javier Huertas",
      "userId": "08531127118556167809"
     },
     "user_tz": -60
    },
    "id": "Hi-Au4HQ93jk",
    "outputId": "a4335362-3187-4a74-c8bb-5dd23dbd5e68"
   },
   "outputs": [
    {
     "data": {
      "text/plain": [
       "tensor([0.9999, 0.9999, 0.9999, 0.9998, 0.9998, 0.9998, 0.9998, 0.9998, 0.9997,\n",
       "        0.9997, 0.9997, 0.9997, 0.9997, 0.9996, 0.9996, 0.9996, 0.9996, 0.9996,\n",
       "        0.9995, 0.9995, 0.9995, 0.9995, 0.9995, 0.9994, 0.9994])"
      ]
     },
     "execution_count": 131,
     "metadata": {},
     "output_type": "execute_result"
    }
   ],
   "source": [
    "alphas = 1. - betas\n",
    "alphas_cumprod = torch.cumprod(alphas, axis=0)\n",
    "alphas_cumprod_prev = F.pad(alphas_cumprod[:-1], (1, 0), value=1.)\n",
    "alphas[:25]"
   ]
  },
  {
   "cell_type": "markdown",
   "metadata": {
    "id": "QXooqOEB-iqY"
   },
   "source": [
    "Furthermore, there are some frequently computed operations later. First the operations required for adding noise:\n",
    "- $\\sqrt{\\hat{α_t}}$\n",
    "- $\\sqrt{1-\\hat{α_t}}$\n",
    "\n",
    "These are used in the denoising:\n",
    "- $\\frac{1}{\\sqrt{\\hat{α_t}}}$\n",
    "- $\\frac{1}{\\sqrt{\\hat{α_t}-1}}$\n",
    "\n",
    "\n",
    "\n",
    "So it will be efficient to pre-compute them."
   ]
  },
  {
   "cell_type": "code",
   "execution_count": 132,
   "metadata": {
    "executionInfo": {
     "elapsed": 11,
     "status": "ok",
     "timestamp": 1737638425542,
     "user": {
      "displayName": "Javier Huertas",
      "userId": "08531127118556167809"
     },
     "user_tz": -60
    },
    "id": "iIF-Jm3q__5d"
   },
   "outputs": [],
   "source": [
    "sqrt_alphas_cumprod = torch.sqrt(alphas_cumprod)\n",
    "sqrt_one_minus_alphas_cumprod = torch.sqrt(1. - alphas_cumprod)\n",
    "sqrt_inv_alphas_cumprod = torch.sqrt(1. / alphas_cumprod)\n",
    "sqrt_inv_alphas_cumprod_minus_one = torch.sqrt(1. / alphas_cumprod - 1)"
   ]
  },
  {
   "cell_type": "markdown",
   "metadata": {
    "id": "c1QPf-BKAU2G"
   },
   "source": [
    "Finally, we need two more coefficients:\n",
    "$$a_t = \\frac{β_t \\sqrt{\\hat{α}_{t-1}}}{1 - \\hat{α_t}}$$\n",
    "$$b_t = \\frac{(1-\\hat{α}_{t-1})\\sqrt{α_t}}{1 - \\hat{α_t}}$$\n",
    "\n",
    "to later compute:\n",
    "\n",
    "$$\\hat{μ}(x_t, x_0) = a_tx_0 + b_tx_t$$\n",
    "\n",
    "Which is used for denoising.\n"
   ]
  },
  {
   "cell_type": "code",
   "execution_count": 133,
   "metadata": {
    "executionInfo": {
     "elapsed": 10,
     "status": "ok",
     "timestamp": 1737638425542,
     "user": {
      "displayName": "Javier Huertas",
      "userId": "08531127118556167809"
     },
     "user_tz": -60
    },
    "id": "M0-awvLHB3WP"
   },
   "outputs": [],
   "source": [
    "posterior_mean_coef1 = betas * torch.sqrt(alphas_cumprod_prev) / (1. - alphas_cumprod)\n",
    "posterior_mean_coef2 = (1. - alphas_cumprod_prev) * torch.sqrt(alphas) / (1. - alphas_cumprod)"
   ]
  },
  {
   "cell_type": "markdown",
   "metadata": {
    "id": "dUvYOKjJB2l8"
   },
   "source": [
    "First, lets define the basic process of noise addition. This is given by the expression:\n",
    "\n",
    "$$\\sqrt{\\hat{α_t}}x_0 + \\sqrt{1-\\hat{α_t}}𝛜$$\n",
    "\n",
    "where $x_0$ is the noiseless image and $𝛜$ is drawn from a random normal distribution."
   ]
  },
  {
   "cell_type": "code",
   "execution_count": 134,
   "metadata": {
    "executionInfo": {
     "elapsed": 594,
     "status": "ok",
     "timestamp": 1737638426127,
     "user": {
      "displayName": "Javier Huertas",
      "userId": "08531127118556167809"
     },
     "user_tz": -60
    },
    "id": "POY3_hDAFt9b"
   },
   "outputs": [],
   "source": [
    "def add_noise(x_0, eps, timesteps):\n",
    "  s1 = sqrt_alphas_cumprod[timesteps].reshape(-1, 1) #Reshape to handle batches\n",
    "  s2 = sqrt_one_minus_alphas_cumprod[timesteps].reshape(-1, 1)\n",
    "  return s1 * x_0 + s2 * eps"
   ]
  },
  {
   "cell_type": "markdown",
   "metadata": {
    "id": "EayfOF2uF_B3"
   },
   "source": [
    "That's all for training!\n",
    "\n",
    "Now for the hard part, the denoising auxiliary funcions. The denoising process requires to follow:\n",
    "\n",
    "$$x_{t-1} = \\hat{μ}(x_t, \\hat{x_0}) + σ_tz$$\n",
    "\n",
    "where $\\sigma_t$ is the variance at timestep $t$ and $z$ is another noise vector. We begin defining how to get the variance.\n",
    "\n"
   ]
  },
  {
   "cell_type": "code",
   "execution_count": 135,
   "metadata": {
    "executionInfo": {
     "elapsed": 15,
     "status": "ok",
     "timestamp": 1737638426127,
     "user": {
      "displayName": "Javier Huertas",
      "userId": "08531127118556167809"
     },
     "user_tz": -60
    },
    "id": "m7xr16PqJIYf"
   },
   "outputs": [],
   "source": [
    "def get_variance(t):\n",
    "  if t==0:\n",
    "    return 0\n",
    "\n",
    "  variance = betas[t] * (1 - alphas_cumprod[t-1]) / (1 - alphas_cumprod[t])\n",
    "  variance = variance.clip(1e-20)\n",
    "  return variance"
   ]
  },
  {
   "cell_type": "markdown",
   "metadata": {
    "id": "LjcgZQlDJd8K"
   },
   "source": [
    "Next, we continue defining the left part of the equation by defining $\\hat{x_0}$ as:\n",
    "\n",
    "$$\\hat{x_0} = \\frac{1}{\\hat{α}}x_t + \\frac{1}{\\sqrt{\\hat{α_t}-1}} 𝛜_θ(x_t, t)$$\n",
    "\n",
    "This is an estimated reconstruction of the original inputs ($x_0$)"
   ]
  },
  {
   "cell_type": "code",
   "execution_count": 136,
   "metadata": {
    "executionInfo": {
     "elapsed": 14,
     "status": "ok",
     "timestamp": 1737638426127,
     "user": {
      "displayName": "Javier Huertas",
      "userId": "08531127118556167809"
     },
     "user_tz": -60
    },
    "id": "x9Cl_x8uLlDq"
   },
   "outputs": [],
   "source": [
    "def reconstruct_x0(x_t, t, noise):\n",
    "  s1 = sqrt_inv_alphas_cumprod[t].reshape(-1, 1)\n",
    "  s2 = sqrt_inv_alphas_cumprod_minus_one[t].reshape(-1, 1)\n",
    "  return s1 * x_t + s2 * noise"
   ]
  },
  {
   "cell_type": "markdown",
   "metadata": {
    "id": "o-4bNbg7Ojfx"
   },
   "source": [
    "Again, we compute the output as: $$\\hat{μ}(x_t, x_0) = a_tx_0 + b_tx_t$$"
   ]
  },
  {
   "cell_type": "code",
   "execution_count": 137,
   "metadata": {
    "executionInfo": {
     "elapsed": 15,
     "status": "ok",
     "timestamp": 1737638426128,
     "user": {
      "displayName": "Javier Huertas",
      "userId": "08531127118556167809"
     },
     "user_tz": -60
    },
    "id": "h33scJ71L4FF"
   },
   "outputs": [],
   "source": [
    "def q_posterior(x_0, x_t, t):\n",
    "  s1 = posterior_mean_coef1[t].reshape(-1, 1)\n",
    "  s2 = posterior_mean_coef2[t].reshape(-1, 1)\n",
    "  return s1 * x_0 + s2 * x_t # mu"
   ]
  },
  {
   "cell_type": "markdown",
   "metadata": {
    "id": "7sMFVrGYOr7_"
   },
   "source": [
    "All together, finally:"
   ]
  },
  {
   "cell_type": "code",
   "execution_count": 138,
   "metadata": {
    "executionInfo": {
     "elapsed": 14,
     "status": "ok",
     "timestamp": 1737638426128,
     "user": {
      "displayName": "Javier Huertas",
      "userId": "08531127118556167809"
     },
     "user_tz": -60
    },
    "id": "eWLmAUWqOuF2"
   },
   "outputs": [],
   "source": [
    "def step(model_output, timestep, sample):\n",
    "  t = timestep\n",
    "  pred_original_sample = reconstruct_x0(sample, t, model_output)\n",
    "  pred_sample = q_posterior(pred_original_sample, sample, t)\n",
    "\n",
    "  variance = 0\n",
    "\n",
    "  if t > 0:\n",
    "    noise = torch.randn_like(model_output)\n",
    "    variance = (get_variance(t) ** 0.5) * noise\n",
    "\n",
    "  pred_sample = pred_sample + variance\n",
    "\n",
    "  return pred_sample"
   ]
  },
  {
   "cell_type": "markdown",
   "metadata": {
    "id": "46m6eNtePRwF"
   },
   "source": [
    "### Scheduler Module\n",
    "Instead of intermediate code, we build the entire scheduler as a single module."
   ]
  },
  {
   "cell_type": "code",
   "execution_count": 139,
   "metadata": {
    "executionInfo": {
     "elapsed": 14,
     "status": "ok",
     "timestamp": 1737638426128,
     "user": {
      "displayName": "Javier Huertas",
      "userId": "08531127118556167809"
     },
     "user_tz": -60
    },
    "id": "u7dFPVV4PbHx"
   },
   "outputs": [],
   "source": [
    "class NoiseScheduler():\n",
    "    def __init__(self,\n",
    "                 num_timesteps=1000,\n",
    "                 beta_start=0.0001,\n",
    "                 beta_end=0.02,\n",
    "                 ):\n",
    "\n",
    "        self.num_timesteps = num_timesteps\n",
    "        self.betas = torch.linspace(\n",
    "                beta_start, beta_end, num_timesteps, dtype=torch.float32)\n",
    "\n",
    "        self.alphas = 1.0 - self.betas\n",
    "        self.alphas_cumprod = torch.cumprod(self.alphas, axis=0)\n",
    "        self.alphas_cumprod_prev = F.pad(\n",
    "            self.alphas_cumprod[:-1], (1, 0), value=1.)\n",
    "\n",
    "        # required for self.add_noise\n",
    "        self.sqrt_alphas_cumprod = self.alphas_cumprod ** 0.5\n",
    "        self.sqrt_one_minus_alphas_cumprod = (1 - self.alphas_cumprod) ** 0.5\n",
    "\n",
    "        # required for reconstruct_x0\n",
    "        self.sqrt_inv_alphas_cumprod = torch.sqrt(1 / self.alphas_cumprod)\n",
    "        self.sqrt_inv_alphas_cumprod_minus_one = torch.sqrt(\n",
    "            1 / self.alphas_cumprod - 1)\n",
    "\n",
    "        # required for q_posterior\n",
    "        self.posterior_mean_coef1 = self.betas * torch.sqrt(self.alphas_cumprod_prev) / (1. - self.alphas_cumprod)\n",
    "        self.posterior_mean_coef2 = (1. - self.alphas_cumprod_prev) * torch.sqrt(self.alphas) / (1. - self.alphas_cumprod)\n",
    "\n",
    "    def reconstruct_x0(self, x_t, t, noise):\n",
    "        s1 = self.sqrt_inv_alphas_cumprod[t].reshape(-1, 1)\n",
    "        s2 = self.sqrt_inv_alphas_cumprod_minus_one[t].reshape(-1, 1)\n",
    "        return s1 * x_t - s2 * noise\n",
    "\n",
    "    def q_posterior(self, x_0, x_t, t):\n",
    "        s1 = self.posterior_mean_coef1[t].reshape(-1, 1)\n",
    "        s2 = self.posterior_mean_coef2[t].reshape(-1, 1)\n",
    "        mu = s1 * x_0 + s2 * x_t\n",
    "        return mu\n",
    "\n",
    "    def get_variance(self, t):\n",
    "        if t == 0:\n",
    "            return 0\n",
    "\n",
    "        variance = self.betas[t] * (1. - self.alphas_cumprod_prev[t]) / (1. - self.alphas_cumprod[t])\n",
    "        variance = variance.clip(1e-20)\n",
    "        return variance\n",
    "\n",
    "    def step(self, model_output, timestep, sample):\n",
    "        t = timestep\n",
    "        pred_original_sample = self.reconstruct_x0(sample, t, model_output)\n",
    "        pred_prev_sample = self.q_posterior(pred_original_sample, sample, t)\n",
    "\n",
    "        variance = 0\n",
    "        if t > 0:\n",
    "            noise = torch.randn_like(model_output)\n",
    "            variance = (self.get_variance(t) ** 0.5) * noise\n",
    "\n",
    "        pred_prev_sample = pred_prev_sample + variance\n",
    "\n",
    "        return pred_prev_sample\n",
    "\n",
    "    def add_noise(self, x_start, x_noise, timesteps):\n",
    "        s1 = self.sqrt_alphas_cumprod[timesteps].reshape(-1, 1)\n",
    "        s2 = self.sqrt_one_minus_alphas_cumprod[timesteps].reshape(-1, 1)\n",
    "        return s1 * x_start + s2 * x_noise\n",
    "\n",
    "    def __len__(self):\n",
    "        return self.num_timesteps"
   ]
  },
  {
   "cell_type": "markdown",
   "metadata": {
    "id": "nw9029HfHvo0"
   },
   "source": [
    "## Training\n",
    "\n",
    "So, to train we need to set up the LightningModule as usual. Now we have to put the module together, including the model and scheduler."
   ]
  },
  {
   "cell_type": "code",
   "execution_count": 143,
   "metadata": {
    "executionInfo": {
     "elapsed": 217,
     "status": "ok",
     "timestamp": 1737638448823,
     "user": {
      "displayName": "Javier Huertas",
      "userId": "08531127118556167809"
     },
     "user_tz": -60
    },
    "id": "dDTLcE8pgR50"
   },
   "outputs": [],
   "source": [
    "class DinoDiffusion(pl.LightningModule):\n",
    "    def __init__(self,\n",
    "                 model, scheduler,\n",
    "                 learning_rate=1e-3,\n",
    "                 weight_decay=0.):\n",
    "        super(DinoDiffusion,self).__init__()\n",
    "        self.save_hyperparameters() # Save Hyperparams\n",
    "        self.learning_rate = learning_rate\n",
    "        self.weight_decay = weight_decay\n",
    "        self.model = model\n",
    "        self.scheduler = scheduler\n",
    "        self.criterion = nn.MSELoss()\n",
    "\n",
    "    def forward(self, x, t):\n",
    "        return self.model(x, t)\n",
    "\n",
    "    def compute_batch(self, batch, split='train'):\n",
    "        noise = torch.randn(batch.shape)\n",
    "        timesteps = torch.randint(0, len(self.scheduler), (batch.shape[0],)).long()\n",
    "\n",
    "        noisy = self.scheduler.add_noise(batch, noise, timesteps)\n",
    "        output = self(noisy, timesteps)\n",
    "        loss = self.criterion(output, noise)\n",
    "\n",
    "        self.log_dict(\n",
    "            {\n",
    "                f'{split}_loss': loss,\n",
    "            },\n",
    "            on_epoch=True, prog_bar=True)\n",
    "\n",
    "        return loss\n",
    "\n",
    "    def training_step(self, batch, batch_idx):\n",
    "        return self.compute_batch(batch, 'train')\n",
    "\n",
    "    def predict_step(self, batch, batch_idx):\n",
    "        return self(batch)\n",
    "\n",
    "    def configure_optimizers(self):\n",
    "        return torch.optim.AdamW(self.parameters(), lr=self.learning_rate,\n",
    "                                 weight_decay=self.weight_decay) # self.parameters() son los parámetros del modelo"
   ]
  },
  {
   "cell_type": "code",
   "execution_count": 165,
   "metadata": {
    "executionInfo": {
     "elapsed": 240,
     "status": "ok",
     "timestamp": 1737640693188,
     "user": {
      "displayName": "Javier Huertas",
      "userId": "08531127118556167809"
     },
     "user_tz": -60
    },
    "id": "_AGFcyMNoVw6"
   },
   "outputs": [],
   "source": [
    "#@title Hyper-parameters\n",
    "\n",
    "LEARNING_RATE = 1e-3 #@param {type:\"number\"}\n",
    "WEIGHT_DECAY = 0. #@param {type:\"number\"}\n",
    "BATCH_SIZE = 32 # @param [\"2\",\"4\",\"8\",\"16\",\"32\"] {\"type\":\"raw\"}\n",
    "MAX_EPOCHS = 25 # @param {\"type\":\"slider\",\"min\":0,\"max\":100,\"step\":1}\n",
    "HIDDEN_DIM = 64 # @param {\"type\":\"slider\",\"min\":0,\"max\":128,\"step\":1}\n",
    "TIMESTEPS = 25 # @param {\"type\":\"slider\",\"min\":0,\"max\":128,\"step\":1}\n",
    "SAVE_DIR = f'lightning_logs/dinos/{datetime.datetime.now().strftime(\"%Y-%m-%d_%H-%M-%S\")}'\n"
   ]
  },
  {
   "cell_type": "markdown",
   "metadata": {
    "id": "jp4kq1lmidvQ"
   },
   "source": [
    "### Train loop"
   ]
  },
  {
   "cell_type": "code",
   "execution_count": null,
   "metadata": {
    "colab": {
     "base_uri": "https://localhost:8080/",
     "height": 364,
     "referenced_widgets": [
      "4a5b1f919bd14d1aa26e5cfb56ed893e",
      "8de50d8de14542028fded0fc164e7fc2",
      "c86d540a7f634737823074deec8ad3cf",
      "b2c8c28e68d84ea4954f7a1e92e71099",
      "fdb8c826fa8e4ab99057409125ad1289",
      "599e85bd23fb41b4a9d01bdf18aa75ac",
      "f14fbd3792a9447ebc43b5a352872931",
      "53d41e8f01ed4d9f85160779707d027d",
      "94d399907b03451fa1d6ce9a251528d9",
      "57c35de2eb81483f958e293700edb79e",
      "621935425ccb4598b1b145150b606ac6"
     ]
    },
    "executionInfo": {
     "elapsed": 307088,
     "status": "ok",
     "timestamp": 1737641002482,
     "user": {
      "displayName": "Javier Huertas",
      "userId": "08531127118556167809"
     },
     "user_tz": -60
    },
    "id": "Gy4p_UO3DEmb",
    "outputId": "81b34fb3-6bc5-4dba-a2b7-7272a8227bf8"
   },
   "outputs": [],
   "source": [
    "# DataModule\n",
    "data_module = DinoModule(DATA_PATH, batch_size=BATCH_SIZE)\n",
    "\n",
    "# Model\n",
    "model = MLP(emb_size=HIDDEN_DIM)\n",
    "\n",
    "# Scheduler\n",
    "scheduler = NoiseScheduler(TIMESTEPS)\n",
    "\n",
    "# LightningModule\n",
    "module = DinoDiffusion(model, scheduler,\n",
    "                       learning_rate=LEARNING_RATE, weight_decay=WEIGHT_DECAY)\n",
    "\n",
    "# Loggers\n",
    "csv_logger = pl.loggers.CSVLogger(\n",
    "    save_dir=SAVE_DIR,\n",
    "    name='metrics',\n",
    "    version=None\n",
    ")\n",
    "\n",
    "loggers = [csv_logger] # se pueden poner varios loggers (mirar documentación)\n",
    "\n",
    "# Trainer\n",
    "trainer = pl.Trainer(max_epochs=MAX_EPOCHS, accelerator='cpu',\n",
    "                     logger=loggers,\n",
    "                     gradient_clip_val=1)\n",
    "\n",
    "trainer.fit(module, data_module)"
   ]
  },
  {
   "cell_type": "markdown",
   "metadata": {
    "id": "mvMyoxtjDEmb"
   },
   "source": [
    "### Visualization\n",
    "The model has been trained, then lets denoise some random data."
   ]
  },
  {
   "cell_type": "code",
   "execution_count": null,
   "metadata": {
    "id": "n_XLUZYtX8CN"
   },
   "outputs": [],
   "source": [
    "def generate_dino(sample_size=1000):\n",
    "  random_sample = torch.randn(sample_size, 2)\n",
    "  timesteps = list(range(len(module.scheduler)))[::-1]\n",
    "  for i, t in enumerate(timesteps):\n",
    "    t = torch.from_numpy(np.repeat(t, sample_size))\n",
    "    with torch.no_grad():\n",
    "      residual = module(random_sample, t)\n",
    "    random_sample = module.scheduler.step(residual, t[0], random_sample)\n",
    "\n",
    "  return random_sample.numpy()"
   ]
  },
  {
   "cell_type": "code",
   "execution_count": null,
   "metadata": {
    "colab": {
     "base_uri": "https://localhost:8080/",
     "height": 410
    },
    "executionInfo": {
     "elapsed": 8068,
     "status": "ok",
     "timestamp": 1737639721568,
     "user": {
      "displayName": "Javier Huertas",
      "userId": "08531127118556167809"
     },
     "user_tz": -60
    },
    "id": "4Zq7_bbvY1u4",
    "outputId": "988dc0e6-6a4a-484c-8fee-a113db5c0eba"
   },
   "outputs": [],
   "source": [
    "# Generate dino samples\n",
    "generated_samples = generate_dino()\n",
    "\n",
    "# Plot the generated dino\n",
    "plt.figure(figsize=(5, 4))\n",
    "plt.scatter(generated_samples[:, 0], generated_samples[:, 1])\n",
    "plt.xlabel('X')\n",
    "plt.ylabel('Y')\n",
    "plt.title('Generated Dino Dataset')\n",
    "plt.show()"
   ]
  }
 ],
 "metadata": {
  "colab": {
   "provenance": []
  },
  "kernelspec": {
   "display_name": "Python 3",
   "name": "python3"
  },
  "language_info": {
   "codemirror_mode": {
    "name": "ipython",
    "version": 3
   },
   "file_extension": ".py",
   "mimetype": "text/x-python",
   "name": "python",
   "nbconvert_exporter": "python",
   "pygments_lexer": "ipython3",
   "version": "3.10.12"
  },
  "widgets": {
   "application/vnd.jupyter.widget-state+json": {
    "4a5b1f919bd14d1aa26e5cfb56ed893e": {
     "model_module": "@jupyter-widgets/controls",
     "model_module_version": "1.5.0",
     "model_name": "HBoxModel",
     "state": {
      "_dom_classes": [],
      "_model_module": "@jupyter-widgets/controls",
      "_model_module_version": "1.5.0",
      "_model_name": "HBoxModel",
      "_view_count": null,
      "_view_module": "@jupyter-widgets/controls",
      "_view_module_version": "1.5.0",
      "_view_name": "HBoxView",
      "box_style": "",
      "children": [
       "IPY_MODEL_8de50d8de14542028fded0fc164e7fc2",
       "IPY_MODEL_c86d540a7f634737823074deec8ad3cf",
       "IPY_MODEL_b2c8c28e68d84ea4954f7a1e92e71099"
      ],
      "layout": "IPY_MODEL_fdb8c826fa8e4ab99057409125ad1289"
     }
    },
    "53d41e8f01ed4d9f85160779707d027d": {
     "model_module": "@jupyter-widgets/base",
     "model_module_version": "1.2.0",
     "model_name": "LayoutModel",
     "state": {
      "_model_module": "@jupyter-widgets/base",
      "_model_module_version": "1.2.0",
      "_model_name": "LayoutModel",
      "_view_count": null,
      "_view_module": "@jupyter-widgets/base",
      "_view_module_version": "1.2.0",
      "_view_name": "LayoutView",
      "align_content": null,
      "align_items": null,
      "align_self": null,
      "border": null,
      "bottom": null,
      "display": null,
      "flex": "2",
      "flex_flow": null,
      "grid_area": null,
      "grid_auto_columns": null,
      "grid_auto_flow": null,
      "grid_auto_rows": null,
      "grid_column": null,
      "grid_gap": null,
      "grid_row": null,
      "grid_template_areas": null,
      "grid_template_columns": null,
      "grid_template_rows": null,
      "height": null,
      "justify_content": null,
      "justify_items": null,
      "left": null,
      "margin": null,
      "max_height": null,
      "max_width": null,
      "min_height": null,
      "min_width": null,
      "object_fit": null,
      "object_position": null,
      "order": null,
      "overflow": null,
      "overflow_x": null,
      "overflow_y": null,
      "padding": null,
      "right": null,
      "top": null,
      "visibility": null,
      "width": null
     }
    },
    "57c35de2eb81483f958e293700edb79e": {
     "model_module": "@jupyter-widgets/base",
     "model_module_version": "1.2.0",
     "model_name": "LayoutModel",
     "state": {
      "_model_module": "@jupyter-widgets/base",
      "_model_module_version": "1.2.0",
      "_model_name": "LayoutModel",
      "_view_count": null,
      "_view_module": "@jupyter-widgets/base",
      "_view_module_version": "1.2.0",
      "_view_name": "LayoutView",
      "align_content": null,
      "align_items": null,
      "align_self": null,
      "border": null,
      "bottom": null,
      "display": null,
      "flex": null,
      "flex_flow": null,
      "grid_area": null,
      "grid_auto_columns": null,
      "grid_auto_flow": null,
      "grid_auto_rows": null,
      "grid_column": null,
      "grid_gap": null,
      "grid_row": null,
      "grid_template_areas": null,
      "grid_template_columns": null,
      "grid_template_rows": null,
      "height": null,
      "justify_content": null,
      "justify_items": null,
      "left": null,
      "margin": null,
      "max_height": null,
      "max_width": null,
      "min_height": null,
      "min_width": null,
      "object_fit": null,
      "object_position": null,
      "order": null,
      "overflow": null,
      "overflow_x": null,
      "overflow_y": null,
      "padding": null,
      "right": null,
      "top": null,
      "visibility": null,
      "width": null
     }
    },
    "599e85bd23fb41b4a9d01bdf18aa75ac": {
     "model_module": "@jupyter-widgets/base",
     "model_module_version": "1.2.0",
     "model_name": "LayoutModel",
     "state": {
      "_model_module": "@jupyter-widgets/base",
      "_model_module_version": "1.2.0",
      "_model_name": "LayoutModel",
      "_view_count": null,
      "_view_module": "@jupyter-widgets/base",
      "_view_module_version": "1.2.0",
      "_view_name": "LayoutView",
      "align_content": null,
      "align_items": null,
      "align_self": null,
      "border": null,
      "bottom": null,
      "display": null,
      "flex": null,
      "flex_flow": null,
      "grid_area": null,
      "grid_auto_columns": null,
      "grid_auto_flow": null,
      "grid_auto_rows": null,
      "grid_column": null,
      "grid_gap": null,
      "grid_row": null,
      "grid_template_areas": null,
      "grid_template_columns": null,
      "grid_template_rows": null,
      "height": null,
      "justify_content": null,
      "justify_items": null,
      "left": null,
      "margin": null,
      "max_height": null,
      "max_width": null,
      "min_height": null,
      "min_width": null,
      "object_fit": null,
      "object_position": null,
      "order": null,
      "overflow": null,
      "overflow_x": null,
      "overflow_y": null,
      "padding": null,
      "right": null,
      "top": null,
      "visibility": null,
      "width": null
     }
    },
    "621935425ccb4598b1b145150b606ac6": {
     "model_module": "@jupyter-widgets/controls",
     "model_module_version": "1.5.0",
     "model_name": "DescriptionStyleModel",
     "state": {
      "_model_module": "@jupyter-widgets/controls",
      "_model_module_version": "1.5.0",
      "_model_name": "DescriptionStyleModel",
      "_view_count": null,
      "_view_module": "@jupyter-widgets/base",
      "_view_module_version": "1.2.0",
      "_view_name": "StyleView",
      "description_width": ""
     }
    },
    "8de50d8de14542028fded0fc164e7fc2": {
     "model_module": "@jupyter-widgets/controls",
     "model_module_version": "1.5.0",
     "model_name": "HTMLModel",
     "state": {
      "_dom_classes": [],
      "_model_module": "@jupyter-widgets/controls",
      "_model_module_version": "1.5.0",
      "_model_name": "HTMLModel",
      "_view_count": null,
      "_view_module": "@jupyter-widgets/controls",
      "_view_module_version": "1.5.0",
      "_view_name": "HTMLView",
      "description": "",
      "description_tooltip": null,
      "layout": "IPY_MODEL_599e85bd23fb41b4a9d01bdf18aa75ac",
      "placeholder": "​",
      "style": "IPY_MODEL_f14fbd3792a9447ebc43b5a352872931",
      "value": "Epoch 24: 100%"
     }
    },
    "94d399907b03451fa1d6ce9a251528d9": {
     "model_module": "@jupyter-widgets/controls",
     "model_module_version": "1.5.0",
     "model_name": "ProgressStyleModel",
     "state": {
      "_model_module": "@jupyter-widgets/controls",
      "_model_module_version": "1.5.0",
      "_model_name": "ProgressStyleModel",
      "_view_count": null,
      "_view_module": "@jupyter-widgets/base",
      "_view_module_version": "1.2.0",
      "_view_name": "StyleView",
      "bar_color": null,
      "description_width": ""
     }
    },
    "b2c8c28e68d84ea4954f7a1e92e71099": {
     "model_module": "@jupyter-widgets/controls",
     "model_module_version": "1.5.0",
     "model_name": "HTMLModel",
     "state": {
      "_dom_classes": [],
      "_model_module": "@jupyter-widgets/controls",
      "_model_module_version": "1.5.0",
      "_model_name": "HTMLModel",
      "_view_count": null,
      "_view_module": "@jupyter-widgets/controls",
      "_view_module_version": "1.5.0",
      "_view_name": "HTMLView",
      "description": "",
      "description_tooltip": null,
      "layout": "IPY_MODEL_57c35de2eb81483f958e293700edb79e",
      "placeholder": "​",
      "style": "IPY_MODEL_621935425ccb4598b1b145150b606ac6",
      "value": " 250/250 [00:11&lt;00:00, 21.36it/s, v_num=0, train_loss_step=1.010, train_loss_epoch=0.739]"
     }
    },
    "c86d540a7f634737823074deec8ad3cf": {
     "model_module": "@jupyter-widgets/controls",
     "model_module_version": "1.5.0",
     "model_name": "FloatProgressModel",
     "state": {
      "_dom_classes": [],
      "_model_module": "@jupyter-widgets/controls",
      "_model_module_version": "1.5.0",
      "_model_name": "FloatProgressModel",
      "_view_count": null,
      "_view_module": "@jupyter-widgets/controls",
      "_view_module_version": "1.5.0",
      "_view_name": "ProgressView",
      "bar_style": "success",
      "description": "",
      "description_tooltip": null,
      "layout": "IPY_MODEL_53d41e8f01ed4d9f85160779707d027d",
      "max": 250,
      "min": 0,
      "orientation": "horizontal",
      "style": "IPY_MODEL_94d399907b03451fa1d6ce9a251528d9",
      "value": 250
     }
    },
    "f14fbd3792a9447ebc43b5a352872931": {
     "model_module": "@jupyter-widgets/controls",
     "model_module_version": "1.5.0",
     "model_name": "DescriptionStyleModel",
     "state": {
      "_model_module": "@jupyter-widgets/controls",
      "_model_module_version": "1.5.0",
      "_model_name": "DescriptionStyleModel",
      "_view_count": null,
      "_view_module": "@jupyter-widgets/base",
      "_view_module_version": "1.2.0",
      "_view_name": "StyleView",
      "description_width": ""
     }
    },
    "fdb8c826fa8e4ab99057409125ad1289": {
     "model_module": "@jupyter-widgets/base",
     "model_module_version": "1.2.0",
     "model_name": "LayoutModel",
     "state": {
      "_model_module": "@jupyter-widgets/base",
      "_model_module_version": "1.2.0",
      "_model_name": "LayoutModel",
      "_view_count": null,
      "_view_module": "@jupyter-widgets/base",
      "_view_module_version": "1.2.0",
      "_view_name": "LayoutView",
      "align_content": null,
      "align_items": null,
      "align_self": null,
      "border": null,
      "bottom": null,
      "display": "inline-flex",
      "flex": null,
      "flex_flow": "row wrap",
      "grid_area": null,
      "grid_auto_columns": null,
      "grid_auto_flow": null,
      "grid_auto_rows": null,
      "grid_column": null,
      "grid_gap": null,
      "grid_row": null,
      "grid_template_areas": null,
      "grid_template_columns": null,
      "grid_template_rows": null,
      "height": null,
      "justify_content": null,
      "justify_items": null,
      "left": null,
      "margin": null,
      "max_height": null,
      "max_width": null,
      "min_height": null,
      "min_width": null,
      "object_fit": null,
      "object_position": null,
      "order": null,
      "overflow": null,
      "overflow_x": null,
      "overflow_y": null,
      "padding": null,
      "right": null,
      "top": null,
      "visibility": null,
      "width": "100%"
     }
    }
   }
  }
 },
 "nbformat": 4,
 "nbformat_minor": 0
}
